{
 "cells": [
  {
   "cell_type": "code",
   "execution_count": 1,
   "metadata": {},
   "outputs": [
    {
     "data": {
      "text/plain": [
       "0"
      ]
     },
     "execution_count": 1,
     "metadata": {},
     "output_type": "execute_result"
    }
   ],
   "source": [
    "import pymysql\n",
    "\n",
    "#CONNECTING TO MYSQL\n",
    "mydb = pymysql.connect(\n",
    "    host=\"localhost\",\n",
    "    user=\"root\",\n",
    "    password=\"!QAZ2wsx#EDC\"\n",
    ")\n",
    "\n",
    "mycursor= mydb.cursor()\n",
    "\n",
    "\n",
    "mycursor.execute(\"CREATE DATABASE IF NOT EXISTS phonepe_pulse\")\n",
    "\n",
    "#CREATING A DATABASE\n",
    "mydb = pymysql.connect( \n",
    "host = 'localhost' ,\n",
    "user = 'root'   ,\n",
    "password = '!QAZ2wsx#EDC', \n",
    "database = 'phonepe_pulse'  \n",
    ")\n",
    "\n",
    "#CREATING TABLES IN MYSQL FOR CHANNEL DETAILS AND VIDEO DETAILS\n",
    "mycursor=mydb.cursor()\n",
    "mycursor.execute(\"CREATE TABLE IF NOT EXISTS aggregate_trans(STATE VARCHAR(50), YEAR INT, QUARTER INT, TRANSACTION_TYPE VARCHAR(50),TRANSACTION_COUNT INT,TRANSACTION_AMOUNT DOUBLE)\")\n",
    "\n",
    "\n",
    "mycursor.execute(\"CREATE TABLE IF NOT EXISTS aggregate_user(STATE VARCHAR(50), YEAR INT, QUARTER INT, TRANSACTION_BRAND VARCHAR(50),TRANSACTION_COUNT INT,TRANSACTION_PERCENTAGE DECIMAL(10, 4))\")\n",
    "\n",
    "\n",
    "mycursor.execute(\"CREATE TABLE IF NOT EXISTS aggregate_insu(STATE VARCHAR(50), YEAR INT, QUARTER INT, TRANSACTION_TYPE VARCHAR(50),TRANSACTION_COUNT INT,TRANSACTION_AMOUNT DOUBLE)\")\n",
    "\n",
    "\n",
    "mycursor.execute(\"CREATE TABLE IF NOT EXISTS map_trans(STATE VARCHAR(50), YEAR INT, QUARTER INT, DISTRICT VARCHAR(50),TRANSACTION_COUNT INT,TRANSACTION_AMOUNT DOUBLE)\")\n",
    "\n",
    "\n",
    "mycursor.execute(\"CREATE TABLE IF NOT EXISTS map_user(STATE VARCHAR(50), YEAR INT, QUARTER INT, DISTRICT VARCHAR(50),REGISTERED_USERS INT, APP_OPENS INT)\")\n",
    "\n",
    "\n",
    "mycursor.execute(\"CREATE TABLE IF NOT EXISTS map_insu(STATE VARCHAR(50), YEAR INT, QUARTER INT, DISTRICT VARCHAR(50),TRANSACTION_COUNT INT,TRANSACTION_AMOUNT DOUBLE)\")\n",
    "\n",
    "\n",
    "mycursor.execute(\"CREATE TABLE IF NOT EXISTS top_trans(STATE VARCHAR(50), YEAR INT, QUARTER INT, PINCODES INT,TRANSACTION_COUNT INT,TRANSACTION_AMOUNT DOUBLE)\")\n",
    "\n",
    "\n",
    "mycursor.execute(\"CREATE TABLE IF NOT EXISTS top_user(STATE VARCHAR(50), YEAR INT, QUARTER INT, PINCODES INT,REGISTERED_USERS INT)\")\n",
    "\n",
    "\n",
    "mycursor.execute(\"CREATE TABLE IF NOT EXISTS top_insu(STATE VARCHAR(50), YEAR INT, QUARTER INT, PINCODES INT,TRANSACTION_COUNT INT,TRANSACTION_AMOUNT DOUBLE)\")\n",
    "\n",
    "\n",
    "\n"
   ]
  }
 ],
 "metadata": {
  "kernelspec": {
   "display_name": "Python 3",
   "language": "python",
   "name": "python3"
  },
  "language_info": {
   "codemirror_mode": {
    "name": "ipython",
    "version": 3
   },
   "file_extension": ".py",
   "mimetype": "text/x-python",
   "name": "python",
   "nbconvert_exporter": "python",
   "pygments_lexer": "ipython3",
   "version": "3.12.2"
  }
 },
 "nbformat": 4,
 "nbformat_minor": 2
}
